{
 "cells": [
  {
   "cell_type": "markdown",
   "id": "5b5c7f57-0ced-4da1-b643-b41cb1e0c49a",
   "metadata": {},
   "source": [
    "MUHAMMAD AHMAD\n",
    "(SP25-BBD-106)"
   ]
  },
  {
   "cell_type": "markdown",
   "id": "ecc66055-14a3-4555-9690-fd59f93fbd7c",
   "metadata": {},
   "source": [
    "Question no 1"
   ]
  },
  {
   "cell_type": "code",
   "execution_count": 3,
   "id": "66d3b9e5-d10e-4c7f-8b28-46bb7b9a36b4",
   "metadata": {},
   "outputs": [
    {
     "name": "stdout",
     "output_type": "stream",
     "text": [
      "Hello, Python learner!\n"
     ]
    }
   ],
   "source": [
    "def say_hello():\n",
    "    print(\"Hello, Python learner!\")\n",
    "\n",
    "say_hello()\n"
   ]
  },
  {
   "cell_type": "markdown",
   "id": "03e43615-c0b5-4a16-9ae1-381a60a4f9b3",
   "metadata": {},
   "source": [
    "Question no 2"
   ]
  },
  {
   "cell_type": "code",
   "execution_count": 4,
   "id": "fe6d695b-e372-4c95-86ad-8f99be57a584",
   "metadata": {},
   "outputs": [
    {
     "name": "stdout",
     "output_type": "stream",
     "text": [
      "Hello, Ahmad!\n"
     ]
    }
   ],
   "source": [
    "def greet_user(name):\n",
    "    print(f\"Hello, {name}!\")\n",
    "\n",
    "greet_user(\"Ahmad\")\n"
   ]
  },
  {
   "cell_type": "markdown",
   "id": "f1cdb9cc-16da-4292-b7c5-b48e286819b7",
   "metadata": {},
   "source": [
    "Question no 3"
   ]
  },
  {
   "cell_type": "code",
   "execution_count": 8,
   "id": "2f191a18-48b3-407b-91be-a1ec50766599",
   "metadata": {
    "scrolled": true
   },
   "outputs": [
    {
     "name": "stdout",
     "output_type": "stream",
     "text": [
      "\n",
      "I have a hamster.\n",
      "My hamster's name is Harry.\n",
      "\n",
      "I have a dog.\n",
      "My dog's name is Tommy.\n"
     ]
    }
   ],
   "source": [
    "def describe_pet(animal_type, pet_name):\n",
    "    print(f\"\\nI have a {animal_type}.\")\n",
    "    print(f\"My {animal_type}'s name is {pet_name.title()}.\")\n",
    "describe_pet('hamster', 'harry')\n",
    "describe_pet(pet_name='tommy', animal_type='dog')\n"
   ]
  },
  {
   "cell_type": "markdown",
   "id": "d51389f2-c972-4b2b-88e4-4f2423f136cd",
   "metadata": {},
   "source": [
    "Question no 4"
   ]
  },
  {
   "cell_type": "code",
   "execution_count": 7,
   "id": "4dfcb865-4afd-409c-a2f0-9844285f12b2",
   "metadata": {
    "scrolled": true
   },
   "outputs": [
    {
     "name": "stdout",
     "output_type": "stream",
     "text": [
      "\n",
      "I have a dog.\n",
      "My dog's name is Rocky.\n",
      "\n",
      "I have a fish.\n",
      "My fish's name is Gold.\n"
     ]
    }
   ],
   "source": [
    "def describe_pet(pet_name, animal_type='dog'):\n",
    "    print(f\"\\nI have a {animal_type}.\")\n",
    "    print(f\"My {animal_type}'s name is {pet_name.title()}.\")\n",
    "describe_pet('rocky')\n",
    "describe_pet('gold', 'fish')\n"
   ]
  },
  {
   "cell_type": "markdown",
   "id": "5dbf0ae3-286d-4c04-afdd-12514c4d506a",
   "metadata": {},
   "source": [
    "Question no 5"
   ]
  },
  {
   "cell_type": "code",
   "execution_count": 10,
   "id": "0033632b-a2c3-466e-83b8-53a4068b1541",
   "metadata": {},
   "outputs": [
    {
     "name": "stdout",
     "output_type": "stream",
     "text": [
      "Muhammad Ahmad\n"
     ]
    }
   ],
   "source": [
    "def get_formatted_name(first, last):\n",
    "    full_name = f\"{first} {last}\"\n",
    "    return full_name.title()\n",
    "\n",
    "name = get_formatted_name('muhammad', 'ahmad')\n",
    "print(name)\n"
   ]
  },
  {
   "cell_type": "markdown",
   "id": "91c090bf-3dee-45b8-aba2-1a2915d8e7b0",
   "metadata": {},
   "source": [
    "QUESTION NO 6"
   ]
  },
  {
   "cell_type": "code",
   "execution_count": 11,
   "id": "a1a98cab-4f5b-4a0b-9c86-18bfcaadd192",
   "metadata": {},
   "outputs": [
    {
     "name": "stdout",
     "output_type": "stream",
     "text": [
      "Ahmad Atif\n",
      "Ahmaf Muazz Atif\n"
     ]
    }
   ],
   "source": [
    "def get_formatted_name(first, last, middle=''):\n",
    "    if middle:\n",
    "        full_name = f\"{first} {middle} {last}\"\n",
    "    else:\n",
    "        full_name = f\"{first} {last}\"\n",
    "    return full_name.title()\n",
    "\n",
    "print(get_formatted_name('AHMAD', 'ATIF'))\n",
    "print(get_formatted_name('AHMAF', 'ATIF', 'MUAZZ'))\n"
   ]
  },
  {
   "cell_type": "markdown",
   "id": "454e63cb-f244-4838-a19e-4d5704ec382d",
   "metadata": {},
   "source": [
    "QUESTION NO 7"
   ]
  },
  {
   "cell_type": "code",
   "execution_count": 12,
   "id": "eb51190c-d9ce-4d30-890c-ae574aeafe03",
   "metadata": {},
   "outputs": [
    {
     "name": "stdout",
     "output_type": "stream",
     "text": [
      "{'first': 'ALI', 'last': 'AHMAD', 'age': 30}\n",
      "{'first': 'ALI ', 'last': 'AHMAD'}\n"
     ]
    }
   ],
   "source": [
    "def build_person(first, last, age=None):\n",
    "    person = {'first': first, 'last': last}\n",
    "    if age:\n",
    "        person['age'] = age\n",
    "    return person\n",
    "\n",
    "print(build_person('ALI', 'AHMAD', 30))\n",
    "print(build_person('ALI ', 'AHMAD'))\n"
   ]
  },
  {
   "cell_type": "markdown",
   "id": "7695ad4c-2fa1-4a41-803c-412bfbac9090",
   "metadata": {},
   "source": [
    "QUESTION NO  8"
   ]
  },
  {
   "cell_type": "code",
   "execution_count": 13,
   "id": "18a73f3e-eec7-4794-9d1e-26ef700299a2",
   "metadata": {},
   "outputs": [
    {
     "name": "stdout",
     "output_type": "stream",
     "text": [
      "Hello, Ahmad!\n",
      "Hello, Faria!\n",
      "Hello, Numan!\n"
     ]
    }
   ],
   "source": [
    "def greet_users(usernames):\n",
    "    for name in usernames:\n",
    "        print(f\"Hello, {name.title()}!\")\n",
    "\n",
    "greet_users(['ahmad', 'FARIA', 'NUMAN'])\n"
   ]
  },
  {
   "cell_type": "markdown",
   "id": "6e7ef2e3-c15d-44d4-b88c-7169144f8170",
   "metadata": {},
   "source": [
    "QUESTION NO 8"
   ]
  },
  {
   "cell_type": "code",
   "execution_count": 17,
   "id": "1bb37a8f-d61f-4fd0-a1ad-b2c42ea8872c",
   "metadata": {},
   "outputs": [
    {
     "name": "stdout",
     "output_type": "stream",
     "text": [
      "Hello, Ahmad!\n",
      "Hello, Atif!\n",
      "Hello, Aliya!\n"
     ]
    }
   ],
   "source": [
    "def greet_users(usernames):\n",
    "    for name in usernames:\n",
    "        print(f\"Hello, {name.title()}!\")\n",
    "\n",
    "greet_users(['AHMAD', 'ATIF', 'ALIYA'])\n"
   ]
  },
  {
   "cell_type": "markdown",
   "id": "7da6df86-b332-40d6-9fc0-266e5aced0d0",
   "metadata": {},
   "source": [
    "QUESTION NO 9"
   ]
  },
  {
   "cell_type": "code",
   "execution_count": 15,
   "id": "f68aff39-7f3a-4f5d-ad55-fd1217d8da3b",
   "metadata": {},
   "outputs": [
    {
     "name": "stdout",
     "output_type": "stream",
     "text": [
      "Making a pizza with the following toppings:\n",
      "- pepperoni\n",
      "- mushrooms\n",
      "- extra cheese\n"
     ]
    }
   ],
   "source": [
    "def make_pizza(*toppings):\n",
    "    print(\"Making a pizza with the following toppings:\")\n",
    "    for topping in toppings:\n",
    "        print(f\"- {topping}\")\n",
    "\n",
    "make_pizza('pepperoni', 'mushrooms', 'extra cheese')\n"
   ]
  },
  {
   "cell_type": "markdown",
   "id": "0d018f53-8c6f-46b9-b74a-deb9de64299a",
   "metadata": {},
   "source": [
    "QUESTION NO 10"
   ]
  },
  {
   "cell_type": "code",
   "execution_count": 16,
   "id": "afd80643-7701-4914-bd4b-3674948bf94d",
   "metadata": {},
   "outputs": [
    {
     "name": "stdout",
     "output_type": "stream",
     "text": [
      "{'first_name': 'ahmad', 'last_name': 'ali', 'location': 'pakistan', 'field': 'programming'}\n"
     ]
    }
   ],
   "source": [
    "def build_profile(first, last, **info):\n",
    "    profile = {'first_name': first, 'last_name': last}\n",
    "    profile.update(info)\n",
    "    return profile\n",
    "\n",
    "user_profile = build_profile('ahmad', 'ali', location='pakistan', field='programming')\n",
    "print(user_profile)\n"
   ]
  },
  {
   "cell_type": "code",
   "execution_count": null,
   "id": "570d9788-9825-49b1-b818-b797ad6cb7e7",
   "metadata": {},
   "outputs": [],
   "source": []
  }
 ],
 "metadata": {
  "kernelspec": {
   "display_name": "Python 3 (ipykernel)",
   "language": "python",
   "name": "python3"
  },
  "language_info": {
   "codemirror_mode": {
    "name": "ipython",
    "version": 3
   },
   "file_extension": ".py",
   "mimetype": "text/x-python",
   "name": "python",
   "nbconvert_exporter": "python",
   "pygments_lexer": "ipython3",
   "version": "3.12.4"
  }
 },
 "nbformat": 4,
 "nbformat_minor": 5
}
